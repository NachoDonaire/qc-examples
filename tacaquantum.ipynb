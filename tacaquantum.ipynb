from pyquil import Program, get_qc
from pyquil.gates import H

# Crear un qubit
qubit = 0

# Crear un programa
p = Program()

# Aplicar una puerta de Hadamard al qubit
p.inst(H(qubit))

# Obtener un objeto QuantumComputer para ejecutar el programa
qc = get_qc("1q-qvm")

# Ejecutar el programa y medir el qubit
resultado = qc.run_and_measure(p, trials=1)

print(resultado)


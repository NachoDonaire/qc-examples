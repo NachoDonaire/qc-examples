{
 "cells": [
  {
   "cell_type": "code",
   "execution_count": 1,
   "metadata": {},
   "outputs": [],
   "source": [
    "# Importar la librería ProjectQ\n",
    "from projectq import MainEngine\n",
    "from projectq.ops import H, Measure\n",
    "\n",
    "# Crear un motor de ejecución\n",
    "engine = MainEngine()\n",
    "\n",
    "# Crear dos qubits\n",
    "qubit1 = engine.allocate_qubit()\n",
    "qubit2 = engine.allocate_qubit()\n",
    "\n",
    "# Aplicar la puerta Hadamard a los qubits\n",
    "H | qubit1\n",
    "H | qubit2\n",
    "\n",
    "# Medir los qubits\n",
    "Measure | qubit1\n",
    "Measure | qubit2\n",
    "\n",
    "# Obtener el resultado de la medición\n",
    "result = (int(qubit1), int(qubit2))\n",
    "print(result)"
   ]
  }
 ],
 "metadata": {
  "kernelspec": {
   "display_name": "Python 3",
   "language": "python",
   "name": "python3"
  },
  "language_info": {
   "codemirror_mode": {
    "name": "ipython",
    "version": 3
   },
   "file_extension": ".py",
   "mimetype": "text/x-python",
   "name": "python",
   "nbconvert_exporter": "python",
   "pygments_lexer": "ipython3",
   "version": "3.8.5"
  }
 },
 "nbformat": 4,
 "nbformat_minor": 2
}


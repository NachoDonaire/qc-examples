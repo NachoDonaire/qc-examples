# Importar la librería ProjectQ
from projectq import MainEngine

# Crear un motor de ejecución
engine = MainEngine()

# Crear dos qubits en un estado |0>
q1 = engine.allocate_qubit()
q2 = engine.allocate_qubit()

# Aplicar la puerta X (NOT) a q1 para ponerlo en el estado |1>
X | q1

# Aplicar la puerta H (Hadamard) a q2 para ponerlo en un estado superposición 50/50
H | q2

# Aplicar la puerta CNOT (Control-NOT) con q1 como control y q2 como objetivo
CNOT | (q1, q2)

# Medir los qubits y mostrar el resultado
engine.flush()
print(int(q1), int(q2))


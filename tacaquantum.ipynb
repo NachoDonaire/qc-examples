{
 "cells": [
  {
   "cell_type": "code",
   "execution_count": null,
   "metadata": {},
   "outputs": [],
   "source": [
    "from pyquil import Program, get_qc\n",
    "from pyquil.gates import H\n",
    "\n",
    "# Crear un qubit\n",
    "qubit = 0\n",
    "\n",
    "# Crear un programa\n",
    "p = Program()\n",
    "\n",
    "# Aplicar una puerta de Hadamard al qubit\n",
    "p.inst(H(qubit))\n",
    "\n",
    "# Obtener un objeto QuantumComputer para ejecutar el programa\n",
    "qc = get_qc(\"1q-qvm\")\n",
    "\n",
    "# Ejecutar el programa y medir el qubit\n",
    "resultado = qc.run_and_measure(p, trials=1)\n",
    "\n",
    "print(resultado)"
   ]
  }
 ],
 "metadata": {
  "kernelspec": {
   "display_name": "Python 3",
   "language": "python",
   "name": "python3"
  },
  "language_info": {
   "codemirror_mode": {
    "name": "ipython",
    "version": 3
   },
   "file_extension": ".py",
   "mimetype": "text/x-python",
   "name": "python",
   "nbconvert_exporter": "python",
   "pygments_lexer": "ipython3",
   "version": "3.8.5"
  }
 },
 "nbformat": 4,
 "nbformat_minor": 2
}

